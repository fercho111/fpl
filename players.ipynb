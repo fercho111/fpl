{
 "cells": [
  {
   "cell_type": "code",
   "execution_count": null,
   "id": "286f71ff",
   "metadata": {},
   "outputs": [],
   "source": [
    "import requests\n",
    "import pandas as pd\n",
    "from tqdm import tqdm\n",
    "from pydantic import create_model\n",
    "\n",
    "BASE_URL = \"https://fantasy.premierleague.com/api/\"\n",
    "\n",
    "# relevant endpoints\n",
    "ENDPOINTS = {\n",
    "    \"bootstrap_static\": \"bootstrap-static/\",\n",
    "    \"element_summary\": \"element-summary/{player_id}/\",\n",
    "    \"fixtures\": \"fixtures/\",\n",
    "    \"gameweek\": \"gameweek/{gameweek}/\",\n",
    "}"
   ]
  },
  {
   "cell_type": "code",
   "execution_count": 2,
   "id": "3568736d",
   "metadata": {},
   "outputs": [],
   "source": [
    "def fetch_bootstrap_static():\n",
    "    url = BASE_URL + ENDPOINTS[\"bootstrap_static\"]\n",
    "    response = requests.get(url)\n",
    "    \n",
    "    if response.status_code == 200:\n",
    "        return response.json()\n",
    "    else:\n",
    "        raise Exception(f\"Failed to fetch data: {response.status_code} - {response.text}\")"
   ]
  },
  {
   "cell_type": "code",
   "execution_count": 3,
   "id": "be6d0bcc",
   "metadata": {},
   "outputs": [],
   "source": [
    "# drop everything but the element_stats, element_types, and elements\n",
    "def extract_relevant_data(data):\n",
    "    element_stats = data.get(\"element_stats\", [])\n",
    "    element_types = data.get(\"element_types\", [])\n",
    "    elements = data.get(\"elements\", [])\n",
    "    \n",
    "    return {\n",
    "        \"element_stats\": element_stats,\n",
    "        \"element_types\": element_types,\n",
    "        \"elements\": elements\n",
    "    }"
   ]
  },
  {
   "cell_type": "code",
   "execution_count": 4,
   "id": "86732b77",
   "metadata": {},
   "outputs": [],
   "source": [
    "relevant_data = extract_relevant_data(fetch_bootstrap_static())"
   ]
  },
  {
   "cell_type": "code",
   "execution_count": 5,
   "id": "4b3e537f",
   "metadata": {},
   "outputs": [],
   "source": [
    "relevant_stats = [x[\"name\"] for x in relevant_data[\"element_stats\"]]"
   ]
  },
  {
   "cell_type": "code",
   "execution_count": 6,
   "id": "1e05533a",
   "metadata": {},
   "outputs": [],
   "source": [
    "historical_relevant_stats = [\"season_name\", \"id\", \"total_points\"] + relevant_stats + [\"points_per_game\"]"
   ]
  },
  {
   "cell_type": "code",
   "execution_count": 7,
   "id": "cad903a7",
   "metadata": {},
   "outputs": [],
   "source": [
    "PlayerSeason = create_model(\n",
    "    \"PlayerSeason\",\n",
    "    **{field: (float, None) for field in historical_relevant_stats}\n",
    ")"
   ]
  },
  {
   "cell_type": "code",
   "execution_count": 8,
   "id": "dc75ebbe",
   "metadata": {},
   "outputs": [],
   "source": [
    "# structure of a season object in the 'history_past' field of a player\n",
    "SEASON_STRUCTURE = {x: type(x) for x in historical_relevant_stats}"
   ]
  },
  {
   "cell_type": "code",
   "execution_count": 10,
   "id": "1db5a46a",
   "metadata": {},
   "outputs": [],
   "source": [
    "# ignore all but the following fields\n",
    "player_info_fields = [\"id\", \"first_name\", \"second_name\", \"birth_date\"]"
   ]
  },
  {
   "cell_type": "code",
   "execution_count": 11,
   "id": "717b0f2f",
   "metadata": {},
   "outputs": [],
   "source": [
    "player_list = [{field: player[field] for field in player_info_fields} for player in relevant_data[\"elements\"]]"
   ]
  },
  {
   "cell_type": "code",
   "execution_count": 22,
   "id": "038af90a",
   "metadata": {},
   "outputs": [
    {
     "data": {
      "text/plain": [
       "dict_keys(['id', 'first_name', 'second_name', 'birth_date'])"
      ]
     },
     "execution_count": 22,
     "metadata": {},
     "output_type": "execute_result"
    }
   ],
   "source": [
    "player_list[0].keys()"
   ]
  },
  {
   "cell_type": "code",
   "execution_count": 25,
   "id": "daa6dd3d",
   "metadata": {},
   "outputs": [
    {
     "data": {
      "text/plain": [
       "[{'season_name': '2022/23',\n",
       "  'element_code': 118748,\n",
       "  'start_cost': 130,\n",
       "  'end_cost': 131,\n",
       "  'total_points': 239,\n",
       "  'minutes': 3290,\n",
       "  'goals_scored': 19,\n",
       "  'assists': 13,\n",
       "  'clean_sheets': 13,\n",
       "  'goals_conceded': 45,\n",
       "  'own_goals': 0,\n",
       "  'penalties_saved': 0,\n",
       "  'penalties_missed': 2,\n",
       "  'yellow_cards': 2,\n",
       "  'red_cards': 0,\n",
       "  'saves': 0,\n",
       "  'bonus': 23,\n",
       "  'bps': 651,\n",
       "  'influence': '1067.4',\n",
       "  'creativity': '899.2',\n",
       "  'threat': '1688.0',\n",
       "  'ict_index': '365.6',\n",
       "  'defensive_contribution': 0,\n",
       "  'starts': 37,\n",
       "  'expected_goals': '21.01',\n",
       "  'expected_assists': '7.03',\n",
       "  'expected_goal_involvements': '28.04',\n",
       "  'expected_goals_conceded': '47.47'},\n",
       " {'season_name': '2023/24',\n",
       "  'element_code': 118748,\n",
       "  'start_cost': 125,\n",
       "  'end_cost': 134,\n",
       "  'total_points': 211,\n",
       "  'minutes': 2531,\n",
       "  'goals_scored': 18,\n",
       "  'assists': 12,\n",
       "  'clean_sheets': 8,\n",
       "  'goals_conceded': 30,\n",
       "  'own_goals': 0,\n",
       "  'penalties_saved': 0,\n",
       "  'penalties_missed': 2,\n",
       "  'yellow_cards': 2,\n",
       "  'red_cards': 0,\n",
       "  'saves': 0,\n",
       "  'bonus': 24,\n",
       "  'bps': 621,\n",
       "  'influence': '1033.8',\n",
       "  'creativity': '892.2',\n",
       "  'threat': '1531.0',\n",
       "  'ict_index': '346.0',\n",
       "  'defensive_contribution': 0,\n",
       "  'starts': 28,\n",
       "  'expected_goals': '20.89',\n",
       "  'expected_assists': '7.47',\n",
       "  'expected_goal_involvements': '28.36',\n",
       "  'expected_goals_conceded': '32.22'},\n",
       " {'season_name': '2024/25',\n",
       "  'element_code': 118748,\n",
       "  'start_cost': 125,\n",
       "  'end_cost': 136,\n",
       "  'total_points': 344,\n",
       "  'minutes': 3374,\n",
       "  'goals_scored': 29,\n",
       "  'assists': 18,\n",
       "  'clean_sheets': 15,\n",
       "  'goals_conceded': 40,\n",
       "  'own_goals': 0,\n",
       "  'penalties_saved': 0,\n",
       "  'penalties_missed': 0,\n",
       "  'yellow_cards': 1,\n",
       "  'red_cards': 0,\n",
       "  'saves': 0,\n",
       "  'bonus': 55,\n",
       "  'bps': 1133,\n",
       "  'influence': '1577.0',\n",
       "  'creativity': '1199.2',\n",
       "  'threat': '1985.0',\n",
       "  'ict_index': '476.0',\n",
       "  'defensive_contribution': 0,\n",
       "  'starts': 38,\n",
       "  'expected_goals': '24.70',\n",
       "  'expected_assists': '8.99',\n",
       "  'expected_goal_involvements': '33.69',\n",
       "  'expected_goals_conceded': '37.83'}]"
      ]
     },
     "execution_count": 25,
     "metadata": {},
     "output_type": "execute_result"
    }
   ],
   "source": [
    "def fetch_player_info(player, n_seasons=3):\n",
    "    player_id = player[\"id\"]\n",
    "    url = (BASE_URL + ENDPOINTS[\"element_summary\"]).format(player_id=player_id)\n",
    "    response = requests.get(url)\n",
    "    \n",
    "    if response.status_code != 200:\n",
    "        raise Exception(f\"Failed to fetch data for player {player_id}: {response.status_code}\")\n",
    "    \n",
    "    history = response.json().get(\"history_past\", [])\n",
    "    return history[-n_seasons:]\n",
    "\n",
    "fetch_player_info(player_list[380])"
   ]
  },
  {
   "cell_type": "code",
   "execution_count": 26,
   "id": "142cc5ed",
   "metadata": {},
   "outputs": [],
   "source": [
    "def build_player_row(player, n_seasons=3):\n",
    "    \"\"\"\n",
    "    Builds a flattened dictionary of stats for the last `n_seasons` of a player.\n",
    "    Uses a MultiIndex format for season-specific columns.\n",
    "    \"\"\"\n",
    "    history = fetch_player_info(player[\"id\"], n_seasons=n_seasons)\n",
    "    \n",
    "    # MultiIndex keys: (season_index, field_name)\n",
    "    row = {}\n",
    "    for i in range(n_seasons):\n",
    "        season_data = history[i] if i < len(history) else {}\n",
    "        for field in PLAYER_FIELDS:\n",
    "            row[(f\"season_{i+1}\", field)] = season_data.get(field, None)\n",
    "    \n",
    "    # Add player-level identifiers at the top-level\n",
    "    row[(\"player_info\", \"id\")] = player[\"id\"]\n",
    "    row[(\"player_info\", \"name\")] = player.get(\"web_name\", \"Unknown\")\n",
    "    \n",
    "    return row"
   ]
  },
  {
   "cell_type": "code",
   "execution_count": 27,
   "id": "fb147094",
   "metadata": {},
   "outputs": [],
   "source": [
    "def build_all_players_df(player_list, n_seasons=3):\n",
    "    \"\"\"\n",
    "    Builds a DataFrame of all players (one row per player) with MultiIndex columns.\n",
    "    \"\"\"\n",
    "    rows = []\n",
    "    for player in tqdm(player_list, desc=\"Fetching players\"):\n",
    "        try:\n",
    "            player_row = build_player_row(player, n_seasons=n_seasons)\n",
    "            rows.append(player_row)\n",
    "        except Exception as e:\n",
    "            print(f\"Error with player {player.get('web_name', 'Unknown')}: {e}\")\n",
    "    \n",
    "    df = pd.DataFrame(rows)\n",
    "    df.columns = pd.MultiIndex.from_tuples(df.columns)\n",
    "    return df"
   ]
  }
 ],
 "metadata": {
  "kernelspec": {
   "display_name": ".venv",
   "language": "python",
   "name": "python3"
  },
  "language_info": {
   "codemirror_mode": {
    "name": "ipython",
    "version": 3
   },
   "file_extension": ".py",
   "mimetype": "text/x-python",
   "name": "python",
   "nbconvert_exporter": "python",
   "pygments_lexer": "ipython3",
   "version": "3.10.12"
  }
 },
 "nbformat": 4,
 "nbformat_minor": 5
}
