{
 "cells": [
  {
   "cell_type": "code",
   "execution_count": null,
   "id": "286f71ff",
   "metadata": {},
   "outputs": [],
   "source": [
    "import requests\n",
    "import pandas as pd\n",
    "from tqdm import tqdm\n",
    "from pydantic import create_model\n",
    "\n",
    "BASE_URL = \"https://fantasy.premierleague.com/api/\"\n",
    "\n",
    "# may or may not need CORS\n",
    "\n",
    "# relevant endpoints\n",
    "ENDPOINTS = {\n",
    "    \"bootstrap_static\": \"bootstrap-static/\",\n",
    "    \"element_summary\": \"element-summary/{player_id}/\",\n",
    "    \"fixtures\": \"fixtures/\",\n",
    "    \"gameweek\": \"gameweek/{gameweek}/\",\n",
    "}"
   ]
  },
  {
   "cell_type": "code",
   "execution_count": 3,
   "id": "3568736d",
   "metadata": {},
   "outputs": [],
   "source": [
    "def fetch_bootstrap_static():\n",
    "    url = BASE_URL + ENDPOINTS[\"bootstrap_static\"]\n",
    "    response = requests.get(url)\n",
    "    \n",
    "    if response.status_code == 200:\n",
    "        return response.json()\n",
    "    else:\n",
    "        raise Exception(f\"Failed to fetch data: {response.status_code} - {response.text}\")"
   ]
  },
  {
   "cell_type": "code",
   "execution_count": null,
   "id": "be6d0bcc",
   "metadata": {},
   "outputs": [],
   "source": [
    "# drop everything but the element_stats, element_types, and elements\n",
    "def extract_relevant_data(data):\n",
    "    element_stats = data.get(\"element_stats\", [])\n",
    "    element_types = data.get(\"element_types\", [])\n",
    "    elements = data.get(\"elements\", [])\n",
    "    \n",
    "    return {\n",
    "        \"element_stats\": element_stats,\n",
    "        \"element_types\": element_types,\n",
    "        \"elements\": elements\n",
    "    }"
   ]
  },
  {
   "cell_type": "code",
   "execution_count": 5,
   "id": "86732b77",
   "metadata": {},
   "outputs": [],
   "source": [
    "relevant_data = extract_relevant_data(fetch_bootstrap_static())"
   ]
  },
  {
   "cell_type": "code",
   "execution_count": 6,
   "id": "4b3e537f",
   "metadata": {},
   "outputs": [],
   "source": [
    "relevant_stats = [x[\"name\"] for x in relevant_data[\"element_stats\"]]"
   ]
  },
  {
   "cell_type": "code",
   "execution_count": 7,
   "id": "1e05533a",
   "metadata": {},
   "outputs": [],
   "source": [
    "historical_relevant_stats = [\"season_name\", \"id\", \"total_points\"] + relevant_stats + [\"points_per_game\"]"
   ]
  },
  {
   "cell_type": "code",
   "execution_count": 8,
   "id": "cad903a7",
   "metadata": {},
   "outputs": [],
   "source": [
    "PlayerSeason = create_model(\n",
    "    \"PlayerSeason\",\n",
    "    **{field: (float, None) for field in historical_relevant_stats}\n",
    ")"
   ]
  },
  {
   "cell_type": "code",
   "execution_count": 9,
   "id": "dc75ebbe",
   "metadata": {},
   "outputs": [],
   "source": [
    "# structure of a season object in the 'history_past' field of a player\n",
    "SEASON_STRUCTURE = {x: type(x) for x in historical_relevant_stats}"
   ]
  },
  {
   "cell_type": "code",
   "execution_count": null,
   "id": "1db5a46a",
   "metadata": {},
   "outputs": [],
   "source": [
    "# ignore all but the following fields\n",
    "player_info_fields = [\"id\", \"first_name\", \"second_name\", \"birth_date\"]"
   ]
  },
  {
   "cell_type": "code",
   "execution_count": 11,
   "id": "717b0f2f",
   "metadata": {},
   "outputs": [],
   "source": [
    "player_list = [{field: player[field] for field in player_info_fields} for player in relevant_data[\"elements\"]]"
   ]
  },
  {
   "cell_type": "code",
   "execution_count": null,
   "id": "45cd9e9e",
   "metadata": {},
   "outputs": [
    {
     "name": "stderr",
     "output_type": "stream",
     "text": [
      "Fetching player histories: 100%|██████████| 658/658 [06:29<00:00,  1.69it/s]"
     ]
    },
    {
     "name": "stdout",
     "output_type": "stream",
     "text": [
      "  season_name    id  total_points  minutes  goals_scored  assists  \\\n",
      "0     2021/22  None            95     2160             0        0   \n",
      "1     2022/23  None           166     3420             0        0   \n",
      "2     2023/24  None           135     2880             0        0   \n",
      "3     2024/25  None           142     3420             0        0   \n",
      "4     2018/19  None           142     3240             0        0   \n",
      "\n",
      "   clean_sheets  goals_conceded  own_goals  penalties_saved  ...  starts  \\\n",
      "0             8              27          0                0  ...       0   \n",
      "1            12              46          1                0  ...      38   \n",
      "2            16              24          0                1  ...      32   \n",
      "3            13              34          0                0  ...      38   \n",
      "4            14              39          0                1  ...       0   \n",
      "\n",
      "   expected_goals  expected_assists  expected_goal_involvements  \\\n",
      "0            0.00              0.00                        0.00   \n",
      "1            0.11              0.12                        0.23   \n",
      "2            0.00              0.04                        0.04   \n",
      "3            0.00              0.03                        0.03   \n",
      "4            0.00              0.00                        0.00   \n",
      "\n",
      "   expected_goals_conceded  points_per_game player_id first_name  \\\n",
      "0                     0.00             None         1      David   \n",
      "1                    50.12             None         1      David   \n",
      "2                    22.51             None         1      David   \n",
      "3                    35.03             None         1      David   \n",
      "4                     0.00             None         2       Kepa   \n",
      "\n",
      "             second_name  birth_date  \n",
      "0            Raya Martín  1995-09-15  \n",
      "1            Raya Martín  1995-09-15  \n",
      "2            Raya Martín  1995-09-15  \n",
      "3            Raya Martín  1995-09-15  \n",
      "4  Arrizabalaga Revuelta  1994-10-03  \n",
      "\n",
      "[5 rows x 31 columns]\n"
     ]
    },
    {
     "name": "stderr",
     "output_type": "stream",
     "text": [
      "\n"
     ]
    }
   ],
   "source": [
    "def fetch_player_history(id):\n",
    "    \"\"\"Fetch history_past stats for a given player.\"\"\"\n",
    "    url = BASE_URL + ENDPOINTS[\"element_summary\"].format(player_id=id)\n",
    "    resp = requests.get(url)\n",
    "    resp.raise_for_status()\n",
    "    data = resp.json()\n",
    "    return data.get(\"history_past\", [])\n",
    "\n",
    "def extract_relevant_fields(history_list, relevant_fields):\n",
    "    \"\"\"Extract only the relevant fields from the history list.\"\"\"\n",
    "    cleaned = []\n",
    "    for season in history_list:\n",
    "        filtered = {k: season.get(k) for k in relevant_fields}\n",
    "        cleaned.append(filtered)\n",
    "    return cleaned\n",
    "\n",
    "def build_dataframe(player_list, relevant_fields):\n",
    "    all_rows = []\n",
    "    for player in tqdm(player_list, desc=\"Fetching player histories\"):\n",
    "        history = fetch_player_history(player['id'])\n",
    "        relevant_stats = extract_relevant_fields(history, relevant_fields)\n",
    "        for season in relevant_stats:\n",
    "            season['player_id'] = player['id']\n",
    "            season['first_name'] = player['first_name']\n",
    "            season['second_name'] = player['second_name']\n",
    "            season['birth_date'] = player['birth_date']\n",
    "            all_rows.append(season)\n",
    "    return pd.DataFrame(all_rows)\n",
    "\n",
    "df = build_dataframe(player_list, historical_relevant_stats)\n",
    "\n",
    "# Optional: inspect\n",
    "print(df.head())"
   ]
  },
  {
   "cell_type": "code",
   "execution_count": 21,
   "id": "28cf0bde",
   "metadata": {},
   "outputs": [],
   "source": [
    "# save df to CSV\n",
    "df.to_csv(\"fpl_player_history.csv\", index=False)"
   ]
  }
 ],
 "metadata": {
  "kernelspec": {
   "display_name": ".venv",
   "language": "python",
   "name": "python3"
  },
  "language_info": {
   "codemirror_mode": {
    "name": "ipython",
    "version": 3
   },
   "file_extension": ".py",
   "mimetype": "text/x-python",
   "name": "python",
   "nbconvert_exporter": "python",
   "pygments_lexer": "ipython3",
   "version": "3.10.12"
  }
 },
 "nbformat": 4,
 "nbformat_minor": 5
}
