{
 "cells": [
  {
   "cell_type": "code",
   "execution_count": null,
   "id": "4620b811",
   "metadata": {},
   "outputs": [],
   "source": [
    "# TODO: regression model for choosing best picks"
   ]
  }
 ],
 "metadata": {
  "language_info": {
   "name": "python"
  }
 },
 "nbformat": 4,
 "nbformat_minor": 5
}
